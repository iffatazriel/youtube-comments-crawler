{
  "cells": [
    {
      "cell_type": "markdown",
      "metadata": {
        "id": "drJUjdex0P5L"
      },
      "source": [
        "**Tujuan** dari program ini adalah melakukan crawling (pengambilan) data komentar pada sebuah video Youtube menggunakan **Youtube Data API v3**. Sebelum mencoba program ini, pastikan Anda sudah memiliki (mengaktifkan) layanan Youtube Data API dan telah membangkitkan **API Key**. \n",
        "\n",
        "Jika belum memiliki **API KEY**, Anda dapat mengikuti petunjuk singkat sebagai berikut: \n",
        "1. Login ke Google Developer Console (https://console.developers.google.com/)dengan akun Google Anda\n",
        "2. Buat project baru dan lengkapi isian yang diminta. \n",
        "3. Aktifkan Layanan API pada halaman project, dan cari **Youtube Data API v3**.\n",
        "4. Dari halaman dashboard, buat kredential agar API tersebut dapat digunakan. Klik tombol **Buat Kredensial** (**Create Credential**). Lengkapi isian formnya.\n",
        "5. Anda dapat mengakses / melihat API KEY pada tab **Credentials**.\n",
        "\n"
      ]
    },
    {
      "cell_type": "markdown",
      "metadata": {
        "id": "rHeYaYGj4LYZ"
      },
      "source": [
        "#1. Import Library"
      ]
    },
    {
      "cell_type": "code",
      "execution_count": 1,
      "metadata": {
        "id": "z6YKKk_wm-eW"
      },
      "outputs": [],
      "source": [
        "import pandas as pd\n",
        "from googleapiclient.discovery import build"
      ]
    },
    {
      "cell_type": "markdown",
      "metadata": {
        "id": "KcGp7cBr4Txt"
      },
      "source": [
        "#2. Fungsi untuk crawling komentar"
      ]
    },
    {
      "cell_type": "code",
      "execution_count": 2,
      "metadata": {
        "id": "Ny5RyssEa-rQ"
      },
      "outputs": [],
      "source": [
        "def video_comments(video_id):\n",
        "\t# empty list for storing reply\n",
        "\treplies = []\n",
        "\n",
        "\t# creating youtube resource object\n",
        "\tyoutube = build('youtube', 'v3', developerKey=api_key)\n",
        "\n",
        "\t# retrieve youtube video results\n",
        "\tvideo_response = youtube.commentThreads().list(part='snippet,replies', videoId=video_id).execute()\n",
        "\n",
        "\t# iterate video response\n",
        "\twhile video_response:\n",
        "\t\t\n",
        "\t\t# extracting required info\n",
        "\t\t# from each result object\n",
        "\t\tfor item in video_response['items']:\n",
        "\t\t\t\n",
        "\t\t\t# Extracting comments ()\n",
        "\t\t\tpublished = item['snippet']['topLevelComment']['snippet']['publishedAt']\n",
        "\t\t\tuser = item['snippet']['topLevelComment']['snippet']['authorDisplayName']\n",
        "\n",
        "\t\t\t# Extracting comments\n",
        "\t\t\tcomment = item['snippet']['topLevelComment']['snippet']['textDisplay']\n",
        "\t\t\tlikeCount = item['snippet']['topLevelComment']['snippet']['likeCount']\n",
        "\n",
        "\t\t\treplies.append([published, user, comment, likeCount])\n",
        "\t\t\t\n",
        "\t\t\t# counting number of reply of comment\n",
        "\t\t\treplycount = item['snippet']['totalReplyCount']\n",
        "\n",
        "\t\t\t# if reply is there\n",
        "\t\t\tif replycount>0:\n",
        "\t\t\t\t# iterate through all reply\n",
        "\t\t\t\tfor reply in item['replies']['comments']:\n",
        "\t\t\t\t\t\n",
        "\t\t\t\t\t# Extract reply\n",
        "\t\t\t\t\tpublished = reply['snippet']['publishedAt']\n",
        "\t\t\t\t\tuser = reply['snippet']['authorDisplayName']\n",
        "\t\t\t\t\trepl = reply['snippet']['textDisplay']\n",
        "\t\t\t\t\tlikeCount = reply['snippet']['likeCount']\n",
        "\t\t\t\t\t\n",
        "\t\t\t\t\t# Store reply is list\n",
        "\t\t\t\t\t#replies.append(reply)\n",
        "\t\t\t\t\treplies.append([published, user, repl, likeCount])\n",
        "\n",
        "\t\t\t# print comment with list of reply\n",
        "\t\t\t#print(comment, replies, end = '\\n\\n')\n",
        "\n",
        "\t\t\t# empty reply list\n",
        "\t\t\t#replies = []\n",
        "\n",
        "\t\t# Again repeat\n",
        "\t\tif 'nextPageToken' in video_response:\n",
        "\t\t\tvideo_response = youtube.commentThreads().list(\n",
        "\t\t\t\t\tpart = 'snippet,replies',\n",
        "\t\t\t\t\tpageToken = video_response['nextPageToken'], \n",
        "\t\t\t\t\tvideoId = video_id\n",
        "\t\t\t\t).execute()\n",
        "\t\telse:\n",
        "\t\t\tbreak\n",
        "\t#endwhile\n",
        "\treturn replies\n"
      ]
    },
    {
      "cell_type": "markdown",
      "metadata": {
        "id": "dr7TtIf442RG"
      },
      "source": [
        "#3. Jalankan Proses Crawling"
      ]
    },
    {
      "cell_type": "code",
      "execution_count": null,
      "metadata": {
        "colab": {
          "base_uri": "https://localhost:8080/"
        },
        "id": "8fz3b_Da4m02",
        "outputId": "324803a9-f1d2-4db8-df36-2187183f89b5"
      },
      "outputs": [],
      "source": [
        "# isikan dengan api key Anda\n",
        "api_key = '<<API KEY>>'\n",
        "\n",
        "# Enter video id\n",
        "# contoh url video = https://www.youtube.com/watch?v=5tucmKjOGi8\n",
        "video_id = \"5tucmKjOGi8\" #isikan dengan kode / ID video\n",
        "\n",
        "# Call function\n",
        "comments = video_comments(video_id)\n",
        "\n",
        "comments"
      ]
    },
    {
      "cell_type": "markdown",
      "metadata": {
        "id": "nLaSlvdT4_RI"
      },
      "source": [
        "#4. Ubah Hasil Crawling ke Dataframe"
      ]
    },
    {
      "cell_type": "code",
      "execution_count": null,
      "metadata": {
        "colab": {
          "base_uri": "https://localhost:8080/",
          "height": 1000
        },
        "id": "qKNh912Tm6LF",
        "outputId": "639d6a6e-d041-4768-8f8c-8e7dad6543df"
      },
      "outputs": [],
      "source": [
        "df = pd.DataFrame(comments, columns=['publishedAt', 'authorDisplayName', 'textDisplay', 'likeCount'])\n",
        "df"
      ]
    },
    {
      "cell_type": "markdown",
      "metadata": {
        "id": "r_MrPaUX5GRK"
      },
      "source": [
        "#5. Simpan Hasil Crawling ke file CSV"
      ]
    },
    {
      "cell_type": "code",
      "execution_count": 5,
      "metadata": {
        "id": "Fmtm_WC05LWB"
      },
      "outputs": [],
      "source": [
        "df.to_csv('youtube-comments.csv', index=False)"
      ]
    }
  ],
  "metadata": {
    "colab": {
      "collapsed_sections": [],
      "provenance": []
    },
    "kernelspec": {
      "display_name": "Python 3",
      "name": "python3"
    },
    "language_info": {
      "name": "python"
    }
  },
  "nbformat": 4,
  "nbformat_minor": 0
}
